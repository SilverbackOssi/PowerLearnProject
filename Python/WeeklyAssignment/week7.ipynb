{
 "cells": [
  {
   "cell_type": "markdown",
   "id": "18f388b7",
   "metadata": {},
   "source": [
    "# Jupyter Notebook Using the Iris Dataset Example"
   ]
  },
  {
   "cell_type": "code",
   "execution_count": null,
   "id": "864141bc",
   "metadata": {
    "vscode": {
     "languageId": "plaintext"
    }
   },
   "outputs": [],
   "source": [
    "# Task 1: Load and Explore the Dataset\n",
    "\n",
    "In this section, we load the Iris dataset using `sklearn.datasets`. Then, we preview the dataset and explore its structure including data types and missing values.\n"
   ]
  },
  {
   "cell_type": "code",
   "execution_count": null,
   "id": "a639eccf",
   "metadata": {},
   "outputs": [],
   "source": [
    "import pandas as pd\n",
    "import matplotlib.pyplot as plt\n",
    "import seaborn as sns\n",
    "from sklearn.datasets import load_iris\n",
    "\n",
    "# Load the Iris dataset\n",
    "try:\n",
    "    iris = load_iris(as_frame=True)\n",
    "    df = iris.frame\n",
    "    print(\"✅ Dataset loaded successfully.\")\n",
    "except Exception as e:\n",
    "    print(\"❌ Error loading dataset:\", e)\n"
   ]
  },
  {
   "cell_type": "markdown",
   "id": "f4de377e",
   "metadata": {},
   "source": [
    "## Preview the dataset\n",
    "\n",
    "Let's look at the first few rows to understand the structure and content.\n"
   ]
  },
  {
   "cell_type": "code",
   "execution_count": null,
   "id": "44a42584",
   "metadata": {},
   "outputs": [],
   "source": [
    "df.head()\n"
   ]
  },
  {
   "cell_type": "markdown",
   "id": "43bbfd01",
   "metadata": {},
   "source": [
    "## Check data structure and missing values\n",
    "\n",
    "We inspect the data types and check for any null values. This helps us determine if we need to clean the data.\n"
   ]
  },
  {
   "cell_type": "code",
   "execution_count": null,
   "id": "1074b2f6",
   "metadata": {},
   "outputs": [],
   "source": [
    "df.info()\n",
    "print(\"\\nMissing values:\\n\", df.isnull().sum())\n"
   ]
  },
  {
   "cell_type": "markdown",
   "id": "cad9f291",
   "metadata": {},
   "source": [
    "# Task 2: Basic Data Analysis\n",
    "\n",
    "We compute basic descriptive statistics and analyze grouped summaries to better understand the dataset.\n"
   ]
  },
  {
   "cell_type": "code",
   "execution_count": null,
   "id": "82606b58",
   "metadata": {},
   "outputs": [],
   "source": [
    "# Basic statistics\n",
    "df.describe()\n"
   ]
  },
  {
   "cell_type": "markdown",
   "id": "973cc5b8",
   "metadata": {},
   "source": [
    "## Grouping by species\n",
    "\n",
    "We group the data by the target variable (species) and compute the mean of each numerical column.\n"
   ]
  },
  {
   "cell_type": "code",
   "execution_count": null,
   "id": "c1ac6baf",
   "metadata": {},
   "outputs": [],
   "source": [
    "# Group by species and compute mean\n",
    "df['species'] = df['target'].map(dict(enumerate(iris.target_names)))\n",
    "df.groupby('species').mean()\n"
   ]
  },
  {
   "cell_type": "markdown",
   "id": "f6c37006",
   "metadata": {},
   "source": [
    "# Task 3: Data Visualization\n",
    "\n",
    "Now we create visualizations to better understand patterns and relationships in the data. We’ll create 4 different types of charts.\n"
   ]
  },
  {
   "cell_type": "markdown",
   "id": "7f12a4f6",
   "metadata": {},
   "source": [
    "## 1. Line Chart - Average Sepal Length per Species\n",
    "\n",
    "A simple line plot to show average sepal length for each species.\n"
   ]
  },
  {
   "cell_type": "code",
   "execution_count": null,
   "id": "0b399b43",
   "metadata": {},
   "outputs": [],
   "source": [
    "sns.set(style=\"whitegrid\")\n",
    "avg_sepal = df.groupby('species')['sepal length (cm)'].mean()\n",
    "avg_sepal.plot(kind='line', marker='o', title=\"Average Sepal Length per Species\")\n",
    "plt.xlabel('Species')\n",
    "plt.ylabel('Sepal Length (cm)')\n",
    "plt.grid(True)\n",
    "plt.show()\n"
   ]
  },
  {
   "cell_type": "markdown",
   "id": "0fa6a6d7",
   "metadata": {},
   "source": [
    "## 2. Bar Chart - Average Petal Length per Species\n",
    "\n",
    "This bar chart compares the average petal length across species.\n"
   ]
  },
  {
   "cell_type": "code",
   "execution_count": null,
   "id": "25d5898d",
   "metadata": {},
   "outputs": [],
   "source": [
    "avg_petal = df.groupby('species')['petal length (cm)'].mean()\n",
    "avg_petal.plot(kind='bar', color='coral', title=\"Average Petal Length per Species\")\n",
    "plt.ylabel('Petal Length (cm)')\n",
    "plt.xlabel('Species')\n",
    "plt.tight_layout()\n",
    "plt.show()\n"
   ]
  },
  {
   "cell_type": "markdown",
   "id": "b57f2b90",
   "metadata": {},
   "source": [
    "## 3. Histogram - Distribution of Sepal Width\n",
    "\n",
    "This histogram helps us understand the distribution of sepal width values.\n"
   ]
  },
  {
   "cell_type": "code",
   "execution_count": null,
   "id": "2406f4ad",
   "metadata": {},
   "outputs": [],
   "source": [
    "plt.hist(df['sepal width (cm)'], bins=15, color='skyblue', edgecolor='black')\n",
    "plt.title(\"Histogram of Sepal Width\")\n",
    "plt.xlabel(\"Sepal Width (cm)\")\n",
    "plt.ylabel(\"Frequency\")\n",
    "plt.grid(True)\n",
    "plt.show()\n"
   ]
  },
  {
   "cell_type": "markdown",
   "id": "f7a149d3",
   "metadata": {},
   "source": [
    "## 4. Scatter Plot - Sepal Length vs Petal Length\n",
    "\n",
    "This scatter plot shows the relationship between sepal length and petal length, colored by species.\n"
   ]
  },
  {
   "cell_type": "code",
   "execution_count": null,
   "id": "06bebd37",
   "metadata": {},
   "outputs": [],
   "source": [
    "sns.scatterplot(data=df, x='sepal length (cm)', y='petal length (cm)', hue='species')\n",
    "plt.title(\"Sepal Length vs Petal Length by Species\")\n",
    "plt.xlabel(\"Sepal Length (cm)\")\n",
    "plt.ylabel(\"Petal Length (cm)\")\n",
    "plt.legend(title=\"Species\")\n",
    "plt.show()\n"
   ]
  },
  {
   "cell_type": "markdown",
   "id": "d57ca117",
   "metadata": {},
   "source": [
    "# Findings and Observations\n",
    "\n",
    "Based on our analysis and visualizations, we summarize the main insights from the Iris dataset.\n"
   ]
  },
  {
   "cell_type": "code",
   "execution_count": null,
   "id": "f4f11ba9",
   "metadata": {},
   "outputs": [],
   "source": [
    "print(\"\"\"\n",
    "🔎 Findings:\n",
    "- Setosa has shorter petal lengths and sepal lengths compared to other species.\n",
    "- Versicolor and Virginica have overlapping distributions but Virginica tends to have longer petals.\n",
    "- Petal length and sepal length have a positive correlation.\n",
    "- Sepal width distribution appears approximately normal.\n",
    "\"\"\")\n"
   ]
  }
 ],
 "metadata": {
  "language_info": {
   "name": "python"
  }
 },
 "nbformat": 4,
 "nbformat_minor": 5
}
